{
  "nbformat": 4,
  "nbformat_minor": 0,
  "metadata": {
    "colab": {
      "name": "LinkedIn_Scraper.ipynb",
      "provenance": [],
      "collapsed_sections": [],
      "authorship_tag": "ABX9TyMMQL9t4lH7Lc+FAGj+pgq0",
      "include_colab_link": true
    },
    "kernelspec": {
      "name": "python3",
      "display_name": "Python 3"
    },
    "language_info": {
      "name": "python"
    }
  },
  "cells": [
    {
      "cell_type": "markdown",
      "metadata": {
        "id": "view-in-github",
        "colab_type": "text"
      },
      "source": [
        "<a href=\"https://colab.research.google.com/github/dean-baldwin/linkedin_html_scraper/blob/main/LinkedIn_Scraper.ipynb\" target=\"_parent\"><img src=\"https://colab.research.google.com/assets/colab-badge.svg\" alt=\"Open In Colab\"/></a>"
      ]
    },
    {
      "cell_type": "markdown",
      "metadata": {
        "id": "vC1AhqQKVcEU"
      },
      "source": [
        "#LinkedIn Post Scraper\n",
        "**Instructions**\n",
        "1. Go to LinkedIn `Post` page that you want to scrape.\n",
        "2. Be sure to click `Read More...` on all the targeted posts.\n",
        "3. Right click and select `Inspect` copy all of the outer `<html>` code.\n",
        "4. Upload it to Colab.\n",
        "5. Be sure to change the file path and set the output name for the csv.file.\n"
      ]
    },
    {
      "cell_type": "markdown",
      "metadata": {
        "id": "fDd5U6BzaeN3"
      },
      "source": [
        "**Install necessary libraries**"
      ]
    },
    {
      "cell_type": "code",
      "metadata": {
        "id": "VtokKwUKmIH0"
      },
      "source": [
        "pip install selenium"
      ],
      "execution_count": null,
      "outputs": []
    },
    {
      "cell_type": "code",
      "metadata": {
        "id": "Z17a-eplXFJl"
      },
      "source": [
        "from selenium import webdriver\n",
        "from selenium.webdriver.common.keys import Keys\n",
        "from selenium.webdriver.common.by import By\n",
        "from selenium.webdriver.support.ui import WebDriverWait\n",
        "from selenium.webdriver.support import expected_conditions as EC\n",
        "from selenium import webdriver\n",
        "from bs4 import BeautifulSoup as bs\n",
        "import re as re\n",
        "import time\n",
        "import pandas as pd"
      ],
      "execution_count": 4,
      "outputs": []
    },
    {
      "cell_type": "markdown",
      "metadata": {
        "id": "Sh8QtyxvWdy9"
      },
      "source": [
        "**USER ACTION: Set the path to the html file**"
      ]
    },
    {
      "cell_type": "code",
      "metadata": {
        "id": "KkKtwUEz6cNu"
      },
      "source": [
        "with open(\"/content/lallemand.html\") as fp:\n",
        "    company_page = bs(fp, 'html.parser')"
      ],
      "execution_count": 5,
      "outputs": []
    },
    {
      "cell_type": "code",
      "metadata": {
        "id": "hSf9buw77yLD"
      },
      "source": [
        "linkedin_soup = bs(company_page.encode(\"utf-8\"), \"html\")\n",
        "linkedin_soup.prettify()\n",
        "\n",
        "#Find the post blocks\n",
        "containers = linkedin_soup.findAll(\"div\",{\"class\":\"occludable-update ember-view\"})"
      ],
      "execution_count": 6,
      "outputs": []
    },
    {
      "cell_type": "code",
      "metadata": {
        "id": "MKWFEWIlmY4m"
      },
      "source": [
        "# Lists that we will iterate to\n",
        "post_dates = []\n",
        "post_texts = []\n",
        "post_likes = []\n",
        "post_comments = []\n",
        "video_views = []\n",
        "media_links = []\n",
        "media_type = []\n",
        "\n",
        "post_subtexts = []\n",
        "\n",
        "\n",
        "#Looping through the posts and appending them to the lists\n",
        "for container in containers:\n",
        "\n",
        "  #Try function to make sure its a post and not a promotion\n",
        "  try:\n",
        "    posted_date = container.find(\"span\",{\"class\":\"visually-hidden\"})\n",
        "    text_box = container.find(\"div\",{\"class\":\"feed-shared-update-v2__description-wrapper\"})\n",
        "    text = text_box.find(\"span\",{\"dir\":\"ltr\"})\n",
        "    new_likes = container.findAll(\"span\", {\"class\":\"social-details-social-counts__reactions-count\"})\n",
        "    new_comments = container.findAll(\"span\", {\"class\": \"social-details-social-counts__item-text--with-social-proof\"})\n",
        "\n",
        "    # begin subtext\n",
        "    '''\n",
        "    text_box2 = container.find(\"div\",{\"class\":\"feed-shared-mini-update-v2 feed-shared-update-v2__update-content-wrapper artdeco-card\"})\n",
        "    text2 = text_box2.find(\"div\",{\"class\":\"feed-shared-text relative feed-shared-update-v2__commentary \"})\n",
        "\n",
        "    post_subtexts.append(text2.text.strip())\n",
        "    print(post_subtexts)\n",
        "    '''\n",
        "    # end subtext\n",
        "\n",
        "    #Appending date and text to lists\n",
        "    post_dates.append(posted_date.text.strip())\n",
        "    post_texts.append(text_box.text.strip())\n",
        "\n",
        "\n",
        "\n",
        "\n",
        "    #Determining media type and collecting relevant info for each type\n",
        "    try:\n",
        "      video_box = container.findAll(\"div\",{\"class\": \"feed-shared-update-v2__content feed-shared-linkedin-video ember-view\"})\n",
        "      video_link = video_box[0].find(\"video\", {\"class\":\"vjs-tech\"})\n",
        "      media_links.append(video_link['src'])\n",
        "      media_type.append(\"Video\")\n",
        "    except:\n",
        "      try:\n",
        "        image_box = container.findAll(\"div\",{\"class\": \"feed-shared-image__container\"})\n",
        "        image_link = image_box[0].find(\"img\", {\"class\":\"ivm-view-attr__img--centered feed-shared-image__image feed-shared-image__image--constrained lazy-image ember-view\"})\n",
        "        media_links.append(image_link['src'])\n",
        "        media_type.append(\"Image\")\n",
        "      except:\n",
        "        try:\n",
        "          image_box = container.findAll(\"div\",{\"class\": \"feed-shared-image__container\"})\n",
        "          image_link = image_box[0].find(\"img\", {\"class\":\"ivm-view-attr__img--centered feed-shared-image__image lazy-image ember-view\"})\n",
        "          media_links.append(image_link['src'])\n",
        "          media_type.append(\"Image\")\n",
        "        except:\n",
        "          try:\n",
        "            article_box = container.findAll(\"div\",{\"class\": \"feed-shared-article__description-container\"})\n",
        "            article_link = article_box[0].find('a', href=True)\n",
        "            media_links.append(article_link['href'])\n",
        "            media_type.append(\"Article\")\n",
        "          except:\n",
        "            try:\n",
        "              video_box = container.findAll(\"div\",{\"class\": \"feed-shared-external-video__meta\"})          \n",
        "              video_link = video_box[0].find('a', href=True)\n",
        "              media_links.append(video_link['href'])\n",
        "              media_type.append(\"Youtube Video\")   \n",
        "            except:\n",
        "              try:\n",
        "                poll_box = container.findAll(\"div\",{\"class\": \"feed-shared-update-v2__content overflow-hidden feed-shared-poll ember-view\"})\n",
        "                media_links.append(\"None\")\n",
        "                media_type.append(\"Other: Poll, Shared Post, etc\")\n",
        "              except:\n",
        "                media_links.append(\"None\")\n",
        "                media_type.append(\"Unknown\")\n",
        "\n",
        "\n",
        "\n",
        "    #Getting Video Views. (The folling three lines prevents class name overlap)\n",
        "    view_container2 = set(container.findAll(\"li\", {'class':[\"social-details-social-counts__item\"]}))\n",
        "    view_container1 = set(container.findAll(\"li\", {'class':[\"social-details-social-counts__reactions\",\"social-details-social-counts__comments social-details-social-counts__item\"]}))\n",
        "    result = view_container2 - view_container1\n",
        "\n",
        "    view_container = []\n",
        "    for i in result:\n",
        "      view_container += i\n",
        "\n",
        "    try:\n",
        "      video_views.append(view_container[1].text.strip().replace(' Views',''))\n",
        "\n",
        "    except:\n",
        "      video_views.append('N/A')\n",
        "\n",
        "    \n",
        "    #Appending likes and comments if they exist\n",
        "    try:\n",
        "      post_likes.append(new_likes[0].text.strip())\n",
        "    except:\n",
        "      post_likes.append(0)\n",
        "      pass\n",
        "\n",
        "    try:\n",
        "      post_comments.append(new_comments[0].text.strip().replace('comment',''))                           \n",
        "    except:                                                           \n",
        "      post_comments.append(0)\n",
        "      pass\n",
        "\n",
        "  except:\n",
        "      pass"
      ],
      "execution_count": null,
      "outputs": []
    },
    {
      "cell_type": "code",
      "metadata": {
        "id": "AL31Gpyr8h9f"
      },
      "source": [
        "#Stripping non-numeric values\n",
        "comment_count = []\n",
        "for i in post_comments:\n",
        "    s = str(i).replace('Comment','').replace('s','').replace(' ','')\n",
        "    comment_count += [s]"
      ],
      "execution_count": 64,
      "outputs": []
    },
    {
      "cell_type": "markdown",
      "metadata": {
        "id": "BoZwLL1sWljo"
      },
      "source": [
        "**USER ACTION: Set the name of the .csv file**"
      ]
    },
    {
      "cell_type": "code",
      "metadata": {
        "id": "TZTm39Xx8mWq"
      },
      "source": [
        "data = {\n",
        "    \"Date Posted\": post_dates,\n",
        "    \"Media Type\": media_type,\n",
        "    \"Post Text\": post_texts,\n",
        "    #\"Post Subtext\": post_subtexts,\n",
        "    \"Post Likes\": post_likes,\n",
        "    \"Post Comments\": comment_count,\n",
        "    \"Video Views\": video_views,\n",
        "    \"Media Links\": media_links\n",
        "}\n",
        "\n",
        "df = pd.DataFrame(data)\n",
        "\n",
        "\n",
        "#Exporting as csv file to program folder\n",
        "df.to_csv(\"linkedin_posts.csv\", encoding='utf-8', index=False)\n"
      ],
      "execution_count": 65,
      "outputs": []
    }
  ]
}